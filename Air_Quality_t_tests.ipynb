{
 "cells": [
  {
   "cell_type": "code",
   "execution_count": 1,
   "metadata": {},
   "outputs": [],
   "source": [
    "# code used to conduct paired t tests for each monitoring station\n",
    "# Geography 176C Team Perfect Skies: Ethan Kadiyala, Mikal De Wit, Xiomara Mendez\n",
    "# Code by Ethan Kadiyala, 6/4/2020"
   ]
  },
  {
   "cell_type": "code",
   "execution_count": 2,
   "metadata": {},
   "outputs": [],
   "source": [
    "## Imports\n",
    "import numpy as np\n",
    "from scipy import stats\n",
    "import pandas as pd"
   ]
  },
  {
   "cell_type": "code",
   "execution_count": 3,
   "metadata": {},
   "outputs": [],
   "source": [
    "# import csv's, each csv contains data from a specific study region for the months of March and April\n",
    "# set variables for each csv\n",
    "bay_base= pd.read_csv('air_data/17_18_19_OZONE_BAY.csv')\n",
    "la_base= pd.read_csv('air_data/17_18_19_OZONE_LA.csv')\n",
    "la_2020= pd.read_csv('air_data/2020_OZONE_LA.csv')\n",
    "bay_2020= pd.read_csv('air_data/2020_OZONE_BAY.csv')"
   ]
  },
  {
   "cell_type": "code",
   "execution_count": 4,
   "metadata": {},
   "outputs": [],
   "source": [
    "# bay_base.head()\n",
    "# la_base.head()\n",
    "# bay_2020.head()\n",
    "# la_2020.head()\n",
    "# bay_base.columns"
   ]
  },
  {
   "cell_type": "markdown",
   "metadata": {},
   "source": [
    "## Los Angeles Stations"
   ]
  },
  {
   "cell_type": "code",
   "execution_count": 5,
   "metadata": {},
   "outputs": [],
   "source": [
    "# set simple variables for the dfs, LA first\n",
    "df_old = la_base    # baseline from 2017-2019\n",
    "\n",
    "df_new = la_2020    # 2020 data"
   ]
  },
  {
   "cell_type": "code",
   "execution_count": 6,
   "metadata": {},
   "outputs": [],
   "source": [
    "# set the index as the site ID\n",
    "df_old_ID = df_old.set_index(['ID'])\n",
    "\n",
    "df_new_ID = df_new.set_index(['ID'])\n"
   ]
  },
  {
   "cell_type": "code",
   "execution_count": 7,
   "metadata": {},
   "outputs": [],
   "source": [
    "# make sure the dfs contain the same sites\n",
    "df_old_ID_match = df_old_ID.loc[df_new_ID.index.unique()]"
   ]
  },
  {
   "cell_type": "code",
   "execution_count": 8,
   "metadata": {},
   "outputs": [
    {
     "name": "stdout",
     "output_type": "stream",
     "text": [
      "Int64Index([60370002, 60370016, 60370113, 60371103, 60371201, 60371302,\n",
      "            60371602, 60371701, 60372005, 60375005, 60376012, 60379033,\n",
      "            60590007, 60592022, 60595001, 60650012, 60650016, 60656001,\n",
      "            60658001, 60658005, 60659001, 60710005, 60710012, 60710306,\n",
      "            60711004, 60712002, 60714001, 60714003, 60719004, 60731008,\n",
      "            61110007, 61110009, 61112002, 61113001],\n",
      "           dtype='int64', name='ID')\n"
     ]
    }
   ],
   "source": [
    "print(df_old_ID_match.index.unique())"
   ]
  },
  {
   "cell_type": "code",
   "execution_count": 9,
   "metadata": {},
   "outputs": [
    {
     "name": "stdout",
     "output_type": "stream",
     "text": [
      "Int64Index([60370002, 60370016, 60370113, 60371103, 60371201, 60371302,\n",
      "            60371602, 60371701, 60372005, 60375005, 60376012, 60379033,\n",
      "            60590007, 60592022, 60595001, 60650012, 60650016, 60656001,\n",
      "            60658001, 60658005, 60659001, 60710005, 60710012, 60710306,\n",
      "            60711004, 60712002, 60714001, 60714003, 60719004, 60731008,\n",
      "            61110007, 61110009, 61112002, 61113001],\n",
      "           dtype='int64', name='ID')\n"
     ]
    }
   ],
   "source": [
    "print(df_new_ID.index.unique())"
   ]
  },
  {
   "cell_type": "code",
   "execution_count": 10,
   "metadata": {},
   "outputs": [],
   "source": [
    "# reset index\n",
    "df_old = df_old_ID_match.reset_index()\n",
    "\n",
    "df_new = df_new_ID.reset_index()\n",
    "\n",
    "# convert DATE to datetime objects\n",
    "df_old['DATE'] = pd.to_datetime(df_old['DATE'])\n",
    "df_new['DATE'] = pd.to_datetime(df_new['DATE'])"
   ]
  },
  {
   "cell_type": "code",
   "execution_count": 11,
   "metadata": {},
   "outputs": [
    {
     "data": {
      "text/html": [
       "<div>\n",
       "<style scoped>\n",
       "    .dataframe tbody tr th:only-of-type {\n",
       "        vertical-align: middle;\n",
       "    }\n",
       "\n",
       "    .dataframe tbody tr th {\n",
       "        vertical-align: top;\n",
       "    }\n",
       "\n",
       "    .dataframe thead th {\n",
       "        text-align: right;\n",
       "    }\n",
       "</style>\n",
       "<table border=\"1\" class=\"dataframe\">\n",
       "  <thead>\n",
       "    <tr style=\"text-align: right;\">\n",
       "      <th></th>\n",
       "      <th>ID</th>\n",
       "      <th>DAY_MAX_OZONE</th>\n",
       "      <th>DAILY_AQI_VALUE</th>\n",
       "      <th>SITE_NAME</th>\n",
       "      <th>DAILY_OBS_COUNT</th>\n",
       "      <th>PERCENT_COMPLETE</th>\n",
       "      <th>CBSA_CODE</th>\n",
       "      <th>CBSA_NAME</th>\n",
       "      <th>COUNTY</th>\n",
       "      <th>SITE_LATITUDE</th>\n",
       "      <th>SITE_LONGITUDE</th>\n",
       "    </tr>\n",
       "    <tr>\n",
       "      <th>DATE</th>\n",
       "      <th></th>\n",
       "      <th></th>\n",
       "      <th></th>\n",
       "      <th></th>\n",
       "      <th></th>\n",
       "      <th></th>\n",
       "      <th></th>\n",
       "      <th></th>\n",
       "      <th></th>\n",
       "      <th></th>\n",
       "      <th></th>\n",
       "    </tr>\n",
       "  </thead>\n",
       "  <tbody>\n",
       "    <tr>\n",
       "      <th>2020-03-01</th>\n",
       "      <td>60370002</td>\n",
       "      <td>0.044</td>\n",
       "      <td>41</td>\n",
       "      <td>Azusa</td>\n",
       "      <td>24</td>\n",
       "      <td>100</td>\n",
       "      <td>31080</td>\n",
       "      <td>Los Angeles-Long Beach-Anaheim, CA</td>\n",
       "      <td>Los Angeles</td>\n",
       "      <td>34.1365</td>\n",
       "      <td>-117.92391</td>\n",
       "    </tr>\n",
       "    <tr>\n",
       "      <th>2020-03-02</th>\n",
       "      <td>60370002</td>\n",
       "      <td>0.042</td>\n",
       "      <td>39</td>\n",
       "      <td>Azusa</td>\n",
       "      <td>24</td>\n",
       "      <td>100</td>\n",
       "      <td>31080</td>\n",
       "      <td>Los Angeles-Long Beach-Anaheim, CA</td>\n",
       "      <td>Los Angeles</td>\n",
       "      <td>34.1365</td>\n",
       "      <td>-117.92391</td>\n",
       "    </tr>\n",
       "    <tr>\n",
       "      <th>2020-03-03</th>\n",
       "      <td>60370002</td>\n",
       "      <td>0.042</td>\n",
       "      <td>39</td>\n",
       "      <td>Azusa</td>\n",
       "      <td>24</td>\n",
       "      <td>100</td>\n",
       "      <td>31080</td>\n",
       "      <td>Los Angeles-Long Beach-Anaheim, CA</td>\n",
       "      <td>Los Angeles</td>\n",
       "      <td>34.1365</td>\n",
       "      <td>-117.92391</td>\n",
       "    </tr>\n",
       "    <tr>\n",
       "      <th>2020-03-04</th>\n",
       "      <td>60370002</td>\n",
       "      <td>0.039</td>\n",
       "      <td>36</td>\n",
       "      <td>Azusa</td>\n",
       "      <td>24</td>\n",
       "      <td>100</td>\n",
       "      <td>31080</td>\n",
       "      <td>Los Angeles-Long Beach-Anaheim, CA</td>\n",
       "      <td>Los Angeles</td>\n",
       "      <td>34.1365</td>\n",
       "      <td>-117.92391</td>\n",
       "    </tr>\n",
       "    <tr>\n",
       "      <th>2020-03-05</th>\n",
       "      <td>60370002</td>\n",
       "      <td>0.048</td>\n",
       "      <td>44</td>\n",
       "      <td>Azusa</td>\n",
       "      <td>24</td>\n",
       "      <td>100</td>\n",
       "      <td>31080</td>\n",
       "      <td>Los Angeles-Long Beach-Anaheim, CA</td>\n",
       "      <td>Los Angeles</td>\n",
       "      <td>34.1365</td>\n",
       "      <td>-117.92391</td>\n",
       "    </tr>\n",
       "  </tbody>\n",
       "</table>\n",
       "</div>"
      ],
      "text/plain": [
       "                  ID  DAY_MAX_OZONE  DAILY_AQI_VALUE SITE_NAME  \\\n",
       "DATE                                                             \n",
       "2020-03-01  60370002          0.044               41     Azusa   \n",
       "2020-03-02  60370002          0.042               39     Azusa   \n",
       "2020-03-03  60370002          0.042               39     Azusa   \n",
       "2020-03-04  60370002          0.039               36     Azusa   \n",
       "2020-03-05  60370002          0.048               44     Azusa   \n",
       "\n",
       "            DAILY_OBS_COUNT  PERCENT_COMPLETE  CBSA_CODE  \\\n",
       "DATE                                                       \n",
       "2020-03-01               24               100      31080   \n",
       "2020-03-02               24               100      31080   \n",
       "2020-03-03               24               100      31080   \n",
       "2020-03-04               24               100      31080   \n",
       "2020-03-05               24               100      31080   \n",
       "\n",
       "                                     CBSA_NAME       COUNTY  SITE_LATITUDE  \\\n",
       "DATE                                                                         \n",
       "2020-03-01  Los Angeles-Long Beach-Anaheim, CA  Los Angeles        34.1365   \n",
       "2020-03-02  Los Angeles-Long Beach-Anaheim, CA  Los Angeles        34.1365   \n",
       "2020-03-03  Los Angeles-Long Beach-Anaheim, CA  Los Angeles        34.1365   \n",
       "2020-03-04  Los Angeles-Long Beach-Anaheim, CA  Los Angeles        34.1365   \n",
       "2020-03-05  Los Angeles-Long Beach-Anaheim, CA  Los Angeles        34.1365   \n",
       "\n",
       "            SITE_LONGITUDE  \n",
       "DATE                        \n",
       "2020-03-01      -117.92391  \n",
       "2020-03-02      -117.92391  \n",
       "2020-03-03      -117.92391  \n",
       "2020-03-04      -117.92391  \n",
       "2020-03-05      -117.92391  "
      ]
     },
     "execution_count": 11,
     "metadata": {},
     "output_type": "execute_result"
    }
   ],
   "source": [
    "# set index to DATE\n",
    "df_old_date = df_old.set_index('DATE')\n",
    "\n",
    "df_new_date = df_new.set_index('DATE')\n",
    "df_new_date.head()"
   ]
  },
  {
   "cell_type": "code",
   "execution_count": 12,
   "metadata": {},
   "outputs": [],
   "source": [
    "# make an empty list \n",
    "df_list = []\n",
    "\n",
    "# design a for loop that uses masking to iterate through the IDs, and reindexing to include all days in the month of march and april\n",
    "for ID in df_new_date['ID'].unique():\n",
    "    # mask by ID\n",
    "    x = df_new_date[df_new_date.ID == ID]\n",
    "    # set range for index\n",
    "    idx = pd.date_range(min(df_new_date.index), max(df_new_date.index))\n",
    "    # reindex the df to have 61 days\n",
    "    y = x.reindex(idx)\n",
    "    # make sure that the ID column is complete, no NaNs\n",
    "    y['ID'] = ID\n",
    "    # append to the newly created list\n",
    "    df_list.append(y)\n",
    "    \n",
    "# concatenate the new list     \n",
    "df_2020 = pd.concat(df_list)"
   ]
  },
  {
   "cell_type": "code",
   "execution_count": 13,
   "metadata": {},
   "outputs": [],
   "source": [
    "# group baseline by site, then month, then day\n",
    "baseline =  df_old_date.groupby([df_old_date.ID, df_old_date.index.month, df_old_date.index.day])['DAY_MAX_OZONE'].mean()\n",
    "baseline\n",
    "# convert to a df\n",
    "df_base = pd.DataFrame(baseline)\n",
    "\n",
    "# reset the index one level at a time\n",
    "df_base_1 = df_base.reset_index(level = 0)\n",
    "df_base_2 = df_base_1.reset_index(level = 0)\n",
    "\n",
    "# rename DATE to DAY to avoid duplicate column names\n",
    "df_base_2['DAY'] = df_base_2['DATE']\n",
    "# delete the DATE column\n",
    "del df_base_2['DATE']\n",
    "\n",
    "# reset the last index\n",
    "df_base_3 = df_base_2.reset_index()\n",
    "\n",
    "# rename DATE to MONTH\n",
    "df_base_3['MONTH'] = df_base_3['DATE']\n",
    "# delete the DATE column\n",
    "del df_base_3['DATE']\n",
    "\n",
    "# simplify variable name\n",
    "df_base = df_base_3\n",
    "\n",
    "# a three year baseline of ozone data, contains daily data for 34 monitoring stations over 61 days each, totaling 2074  "
   ]
  },
  {
   "cell_type": "code",
   "execution_count": 14,
   "metadata": {},
   "outputs": [
    {
     "name": "stdout",
     "output_type": "stream",
     "text": [
      "Ttest_relResult(statistic=2.037803602805772, pvalue=0.04613950281076289) Station: 60370002\n",
      "Ttest_relResult(statistic=-0.28338164141463373, pvalue=0.7780094804173324) Station: 60370016\n",
      "Ttest_relResult(statistic=5.401866970687692, pvalue=1.2391244579381627e-06) Station: 60370113\n",
      "Ttest_relResult(statistic=5.338666585596079, pvalue=1.8320515980622785e-06) Station: 60371103\n",
      "Ttest_relResult(statistic=3.0116862351050675, pvalue=0.003919834309321576) Station: 60371201\n",
      "Ttest_relResult(statistic=4.513792293219869, pvalue=3.029843101235114e-05) Station: 60371302\n",
      "Ttest_relResult(statistic=0.028196445188581182, pvalue=0.9776057182615434) Station: 60371602\n",
      "Ttest_relResult(statistic=-3.953304901872027, pvalue=0.00020887431709252108) Station: 60371701\n",
      "Ttest_relResult(statistic=-0.11454094200257547, pvalue=0.9092115200251386) Station: 60372005\n",
      "Ttest_relResult(statistic=11.262200839131589, pvalue=5.170444837856985e-16) Station: 60375005\n",
      "Ttest_relResult(statistic=1.041010271597503, pvalue=0.30226630250428765) Station: 60376012\n",
      "Ttest_relResult(statistic=6.745665650317434, pvalue=7.27994877284141e-09) Station: 60379033\n",
      "Ttest_relResult(statistic=3.470399973505627, pvalue=0.000968942328542968) Station: 60590007\n",
      "Ttest_relResult(statistic=5.02155258375968, pvalue=5.037175516548797e-06) Station: 60592022\n",
      "Ttest_relResult(statistic=1.2490766365087045, pvalue=0.21665479810278387) Station: 60595001\n",
      "Ttest_relResult(statistic=3.6606509963680303, pvalue=0.0005729972938931933) Station: 60650012\n",
      "Ttest_relResult(statistic=5.474229482812747, pvalue=9.457043580158581e-07) Station: 60650016\n",
      "Ttest_relResult(statistic=4.513310352468405, pvalue=3.1018270716875105e-05) Station: 60656001\n",
      "Ttest_relResult(statistic=3.3951488444519193, pvalue=0.0012794475578329252) Station: 60658001\n",
      "Ttest_relResult(statistic=1.4025394654784211, pvalue=0.16599435070046495) Station: 60658005\n",
      "Ttest_relResult(statistic=5.24659163113056, pvalue=2.130183851279786e-06) Station: 60659001\n",
      "Ttest_relResult(statistic=2.599822366575831, pvalue=0.011724454419148751) Station: 60710005\n",
      "Ttest_relResult(statistic=8.350553741376118, pvalue=4.796092197463719e-11) Station: 60710012\n",
      "Ttest_relResult(statistic=3.1617778861230645, pvalue=0.0025124345486227206) Station: 60710306\n",
      "Ttest_relResult(statistic=1.1659855311068732, pvalue=0.2482343170456467) Station: 60711004\n",
      "Ttest_relResult(statistic=0.8161460295732786, pvalue=0.41806973868796116) Station: 60712002\n",
      "Ttest_relResult(statistic=6.277273262542974, pvalue=4.210072088848853e-08) Station: 60714001\n",
      "Ttest_relResult(statistic=-0.9101067981144371, pvalue=0.36640790623406017) Station: 60714003\n",
      "Ttest_relResult(statistic=2.10373087029906, pvalue=0.039825898697112706) Station: 60719004\n",
      "Ttest_relResult(statistic=3.8907465461805497, pvalue=0.0003074314636488911) Station: 60731008\n",
      "Ttest_relResult(statistic=5.702398788210409, pvalue=4.1952365222953603e-07) Station: 61110007\n",
      "Ttest_relResult(statistic=6.261860693048334, pvalue=4.7351550453624996e-08) Station: 61110009\n",
      "Ttest_relResult(statistic=5.676966095741273, pvalue=4.6156502231099e-07) Station: 61112002\n",
      "Ttest_relResult(statistic=6.853489865878973, pvalue=4.786473782955816e-09) Station: 61113001\n"
     ]
    }
   ],
   "source": [
    "# conduct t-test on all sites\n",
    "for ID in df_base.ID.unique():\n",
    "    x = df_base.DAY_MAX_OZONE[df_base.ID == ID]\n",
    "    y = df_2020.DAY_MAX_OZONE[df_2020.ID == ID]\n",
    "    test = stats.ttest_rel(x, y, nan_policy = 'omit')\n",
    "    print(test, 'Station:', ID)\n"
   ]
  },
  {
   "cell_type": "code",
   "execution_count": 15,
   "metadata": {},
   "outputs": [],
   "source": [
    "# find critical value\n",
    "\n",
    "# set up columns to be added to a new df\n",
    "df_base['OZONE_BASE'] = df_base['DAY_MAX_OZONE']\n",
    "\n",
    "df_2020['OZONE_20'] = df_2020['DAY_MAX_OZONE']\n",
    "\n",
    "# reset the index of the 2020 data\n",
    "df_20 = df_2020.reset_index()\n",
    "\n",
    "# make new df with ozone values from both years\n",
    "ozone_20 = df_20['OZONE_20']\n",
    "df_ozone_20 = pd.DataFrame(ozone_20)\n",
    "df_ozone_20\n",
    "# df with just the ozone data from both years\n",
    "df_ozone = pd.concat([df_ozone_20, df_base['OZONE_BASE']], axis = 1)"
   ]
  },
  {
   "cell_type": "code",
   "execution_count": 16,
   "metadata": {},
   "outputs": [
    {
     "data": {
      "text/plain": [
       "0.0004012833956885438"
      ]
     },
     "execution_count": 16,
     "metadata": {},
     "output_type": "execute_result"
    }
   ],
   "source": [
    "# calculate critical value\n",
    "\n",
    "# find the difference between the samples\n",
    "df_ozone['d'] = df_ozone['OZONE_20'] - df_ozone['OZONE_BASE']\n",
    "\n",
    "# calculate the mean of the differences, d bar\n",
    "d_bar = df_ozone.d.mean() \n",
    "\n",
    "# claculate standard deviation of the differences\n",
    "s_d = df_ozone.d.std()\n",
    "\n",
    "# find n\n",
    "n = len(df_ozone.d)\n",
    "\n",
    "# t value for a one sided t test with 2073 degrees of freedom\n",
    "t = 1.645589\n",
    "\n",
    "# claculate statisitc to see if d_bar is significantly different\n",
    "stat = d_bar*(s_d/(n**.5))\n",
    "\n",
    "# calculate critical value for d_bar in order to yield significant results\n",
    "crit = t*(s_d/(n**.5))\n",
    "crit"
   ]
  },
  {
   "cell_type": "markdown",
   "metadata": {},
   "source": [
    "## Bay Area Stations"
   ]
  },
  {
   "cell_type": "code",
   "execution_count": 17,
   "metadata": {},
   "outputs": [],
   "source": [
    "# set simple variables for the Bay dfs\n",
    "df_old = bay_base    # baseline from 2017-2019\n",
    "\n",
    "df_new = bay_2020    # 2020 data"
   ]
  },
  {
   "cell_type": "code",
   "execution_count": 18,
   "metadata": {},
   "outputs": [],
   "source": [
    "# set the index as the site ID\n",
    "df_old_ID = df_old.set_index(['ID'])\n",
    "\n",
    "df_new_ID = df_new.set_index(['ID'])\n"
   ]
  },
  {
   "cell_type": "code",
   "execution_count": 19,
   "metadata": {},
   "outputs": [],
   "source": [
    "# make sure the dfs contain the same sites\n",
    "df_old_ID_match = df_old_ID.loc[df_new_ID.index.unique()]"
   ]
  },
  {
   "cell_type": "code",
   "execution_count": 20,
   "metadata": {},
   "outputs": [],
   "source": [
    "# reset index\n",
    "df_old = df_old_ID_match.reset_index()\n",
    "\n",
    "df_new = df_new_ID.reset_index()\n",
    "\n",
    "# convert DATE to datetime objects\n",
    "df_old['DATE'] = pd.to_datetime(df_old['DATE'])\n",
    "df_new['DATE'] = pd.to_datetime(df_new['DATE'])"
   ]
  },
  {
   "cell_type": "code",
   "execution_count": 21,
   "metadata": {},
   "outputs": [],
   "source": [
    "# set index to DATE\n",
    "df_old_date = df_old.set_index('DATE')\n",
    "\n",
    "df_new_date = df_new.set_index('DATE')"
   ]
  },
  {
   "cell_type": "code",
   "execution_count": 22,
   "metadata": {},
   "outputs": [],
   "source": [
    "# make an empty list \n",
    "df_list = []\n",
    "\n",
    "# design a for loop that uses masking to iterate through the IDs, and reindexing to include all days in the month of march and april\n",
    "for ID in df_new_date['ID'].unique():\n",
    "    # mask by ID\n",
    "    x = df_new_date[df_new_date.ID == ID]\n",
    "    # set range for index\n",
    "    idx = pd.date_range(min(df_new_date.index), max(df_new_date.index))\n",
    "    # reindex the df to have 61 days\n",
    "    y = x.reindex(idx)\n",
    "    # make sure that the ID column is complete, no NaNs\n",
    "    y['ID'] = ID\n",
    "    # append to the newly created list\n",
    "    df_list.append(y)\n",
    "    \n",
    "# concatenate the new list     \n",
    "df_2020 = pd.concat(df_list)"
   ]
  },
  {
   "cell_type": "code",
   "execution_count": 23,
   "metadata": {},
   "outputs": [],
   "source": [
    "# group baseline by site, then month, then day\n",
    "baseline =  df_old_date.groupby([df_old_date.ID, df_old_date.index.month, df_old_date.index.day])['DAY_MAX_OZONE'].mean()\n",
    "baseline\n",
    "# convert to a df\n",
    "df_base = pd.DataFrame(baseline)\n",
    "\n",
    "# reset the index one level at a time\n",
    "df_base_1 = df_base.reset_index(level = 0)\n",
    "df_base_2 = df_base_1.reset_index(level = 0)\n",
    "\n",
    "# rename DATE to DAY to avoid duplicate column names\n",
    "df_base_2['DAY'] = df_base_2['DATE']\n",
    "# delete the DATE column\n",
    "del df_base_2['DATE']\n",
    "\n",
    "# reset the last index\n",
    "df_base_3 = df_base_2.reset_index()\n",
    "\n",
    "# rename DATE to MONTH\n",
    "df_base_3['MONTH'] = df_base_3['DATE']\n",
    "# delete the DATE column\n",
    "del df_base_3['DATE']\n",
    "\n",
    "# simplify variable name\n",
    "df_base = df_base_3\n",
    " "
   ]
  },
  {
   "cell_type": "code",
   "execution_count": 24,
   "metadata": {},
   "outputs": [
    {
     "name": "stdout",
     "output_type": "stream",
     "text": [
      "0.3618990112175112 Station: 60010007\n",
      "0.2541666931217446 Station: 60010009\n",
      "0.2671886542453742 Station: 60010011\n",
      "0.016971421862392238 Station: 60010013\n",
      "0.0002518698688271706 Station: 60012001\n",
      "0.0603417921565984 Station: 60130002\n",
      "0.8314655636300736 Station: 60131002\n",
      "0.02059579079367137 Station: 60131004\n",
      "0.0030223876584316457 Station: 60132007\n",
      "0.0009486586967855398 Station: 60410001\n",
      "0.023536071078299123 Station: 60550004\n",
      "0.14625740425816997 Station: 60670011\n",
      "0.7258197278247569 Station: 60750005\n",
      "0.05446150095840288 Station: 60771002\n",
      "0.00015371719514104622 Station: 60773005\n",
      "0.0385934009086495 Station: 60811001\n",
      "0.03601919273495009 Station: 60850005\n",
      "6.083564142360394e-06 Station: 60851001\n",
      "7.522098062839236e-05 Station: 60852006\n",
      "0.2948229460635326 Station: 60950004\n",
      "0.6209446758665926 Station: 60950005\n",
      "60953002 is not equal length\n",
      "0.7145415066838041 Station: 60970004\n"
     ]
    }
   ],
   "source": [
    "# conduct t-test on all sites\n",
    "for ID in df_base.ID.unique():\n",
    "    x = df_base.DAY_MAX_OZONE[df_base.ID == ID]\n",
    "    y = df_2020.DAY_MAX_OZONE[df_2020.ID == ID]\n",
    "    if len(x) == 61:    \n",
    "        t_stat, p_val = stats.ttest_rel(x, y, nan_policy = 'omit')\n",
    "        print(p_val, 'Station:', ID)\n",
    "    else:\n",
    "        print(ID, 'is not equal length')"
   ]
  },
  {
   "cell_type": "code",
   "execution_count": 25,
   "metadata": {},
   "outputs": [],
   "source": [
    "# find critical value\n",
    "\n",
    "# set up columns to be added to a new df\n",
    "df_base['OZONE_BASE'] = df_base['DAY_MAX_OZONE']\n",
    "\n",
    "df_2020['OZONE_20'] = df_2020['DAY_MAX_OZONE']\n",
    "\n",
    "# reset the index of the 2020 data\n",
    "df_20 = df_2020.reset_index()\n",
    "\n",
    "# make new df with ozone values from both years\n",
    "ozone_20 = df_20['OZONE_20']\n",
    "df_ozone_20 = pd.DataFrame(ozone_20)\n",
    "df_ozone_20\n",
    "# df with just the ozone data from both years\n",
    "df_ozone = pd.concat([df_ozone_20, df_base['OZONE_BASE']], axis = 1)"
   ]
  },
  {
   "cell_type": "code",
   "execution_count": 26,
   "metadata": {},
   "outputs": [
    {
     "data": {
      "text/plain": [
       "0.0002856682474314262"
      ]
     },
     "execution_count": 26,
     "metadata": {},
     "output_type": "execute_result"
    }
   ],
   "source": [
    "# calculate critical value\n",
    "\n",
    "# find the difference between the samples\n",
    "df_ozone['d'] = df_ozone['OZONE_20'] - df_ozone['OZONE_BASE']\n",
    "\n",
    "# calculate the mean of the differences, d bar\n",
    "d_bar = df_ozone.d.mean() \n",
    "\n",
    "# claculate standard deviation of the differences\n",
    "s_d = df_ozone.d.std()\n",
    "\n",
    "# find n\n",
    "n = len(df_ozone.d)\n",
    "\n",
    "# t value for a one sided t test with 2073 degrees of freedom\n",
    "t = 1.645589\n",
    "\n",
    "# claculate statisitc to see if d_bar is significantly different\n",
    "stat = d_bar*(s_d/(n**.5))\n",
    "\n",
    "# calculate critical value for d_bar in order to yield significant results\n",
    "crit = t*(s_d/(n**.5))\n",
    "crit"
   ]
  }
 ],
 "metadata": {
  "kernelspec": {
   "display_name": "Python 3",
   "language": "python",
   "name": "python3"
  },
  "language_info": {
   "codemirror_mode": {
    "name": "ipython",
    "version": 3
   },
   "file_extension": ".py",
   "mimetype": "text/x-python",
   "name": "python",
   "nbconvert_exporter": "python",
   "pygments_lexer": "ipython3",
   "version": "3.7.6"
  }
 },
 "nbformat": 4,
 "nbformat_minor": 4
}
